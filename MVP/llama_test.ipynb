{
 "cells": [
  {
   "cell_type": "code",
   "execution_count": 64,
   "metadata": {},
   "outputs": [
    {
     "ename": "ModuleNotFoundError",
     "evalue": "No module named 'google.auth'",
     "output_type": "error",
     "traceback": [
      "\u001b[0;31m---------------------------------------------------------------------------\u001b[0m",
      "\u001b[0;31mModuleNotFoundError\u001b[0m                       Traceback (most recent call last)",
      "\u001b[1;32m/Users/eriwang/Desktop/Software Engineering/Eval-AI/MVP/llama_test.ipynb Cell 1\u001b[0m line \u001b[0;36m1\n\u001b[0;32m----> <a href='vscode-notebook-cell:/Users/eriwang/Desktop/Software%20Engineering/Eval-AI/MVP/llama_test.ipynb#W0sZmlsZQ%3D%3D?line=0'>1</a>\u001b[0m \u001b[39mfrom\u001b[39;00m \u001b[39msheets_api\u001b[39;00m \u001b[39mimport\u001b[39;00m SheetsAPI\n\u001b[1;32m      <a href='vscode-notebook-cell:/Users/eriwang/Desktop/Software%20Engineering/Eval-AI/MVP/llama_test.ipynb#W0sZmlsZQ%3D%3D?line=1'>2</a>\u001b[0m \u001b[39mimport\u001b[39;00m \u001b[39mreplicate\u001b[39;00m\n\u001b[1;32m      <a href='vscode-notebook-cell:/Users/eriwang/Desktop/Software%20Engineering/Eval-AI/MVP/llama_test.ipynb#W0sZmlsZQ%3D%3D?line=2'>3</a>\u001b[0m \u001b[39mfrom\u001b[39;00m \u001b[39mdotenv\u001b[39;00m \u001b[39mimport\u001b[39;00m load_dotenv\n",
      "File \u001b[0;32m~/Desktop/Software Engineering/Eval-AI/MVP/sheets_api.py:2\u001b[0m\n\u001b[1;32m      1\u001b[0m \u001b[39mimport\u001b[39;00m \u001b[39mos\u001b[39;00m\u001b[39m.\u001b[39;00m\u001b[39mpath\u001b[39;00m\n\u001b[0;32m----> 2\u001b[0m \u001b[39mfrom\u001b[39;00m \u001b[39mgoogle\u001b[39;00m\u001b[39m.\u001b[39;00m\u001b[39mauth\u001b[39;00m\u001b[39m.\u001b[39;00m\u001b[39mtransport\u001b[39;00m\u001b[39m.\u001b[39;00m\u001b[39mrequests\u001b[39;00m \u001b[39mimport\u001b[39;00m Request\n\u001b[1;32m      3\u001b[0m \u001b[39mfrom\u001b[39;00m \u001b[39mgoogle\u001b[39;00m\u001b[39m.\u001b[39;00m\u001b[39moauth2\u001b[39;00m\u001b[39m.\u001b[39;00m\u001b[39mcredentials\u001b[39;00m \u001b[39mimport\u001b[39;00m Credentials\n\u001b[1;32m      4\u001b[0m \u001b[39mfrom\u001b[39;00m \u001b[39mgoogle_auth_oauthlib\u001b[39;00m\u001b[39m.\u001b[39;00m\u001b[39mflow\u001b[39;00m \u001b[39mimport\u001b[39;00m InstalledAppFlow\n",
      "\u001b[0;31mModuleNotFoundError\u001b[0m: No module named 'google.auth'"
     ]
    }
   ],
   "source": [
    "from sheets_api import SheetsAPI\n",
    "import replicate\n",
    "from dotenv import load_dotenv\n",
    "import os\n",
    "\n",
    "load_dotenv()\n",
    "REPLICATE_API_TOKEN = os.getenv('REPLICATE_API_TOKEN')"
   ]
  },
  {
   "cell_type": "code",
   "execution_count": 19,
   "metadata": {},
   "outputs": [
    {
     "ename": "NameError",
     "evalue": "name 'SheetsAPI' is not defined",
     "output_type": "error",
     "traceback": [
      "\u001b[0;31m---------------------------------------------------------------------------\u001b[0m",
      "\u001b[0;31mNameError\u001b[0m                                 Traceback (most recent call last)",
      "\u001b[1;32m/Users/eriwang/Desktop/Software Engineering/Eval-AI/MVP/llama_test.ipynb Cell 2\u001b[0m line \u001b[0;36m1\n\u001b[0;32m----> <a href='vscode-notebook-cell:/Users/eriwang/Desktop/Software%20Engineering/Eval-AI/MVP/llama_test.ipynb#W1sZmlsZQ%3D%3D?line=0'>1</a>\u001b[0m s \u001b[39m=\u001b[39m SheetsAPI()\n\u001b[1;32m      <a href='vscode-notebook-cell:/Users/eriwang/Desktop/Software%20Engineering/Eval-AI/MVP/llama_test.ipynb#W1sZmlsZQ%3D%3D?line=1'>2</a>\u001b[0m values \u001b[39m=\u001b[39m s\u001b[39m.\u001b[39mget_sheet_values(\n\u001b[1;32m      <a href='vscode-notebook-cell:/Users/eriwang/Desktop/Software%20Engineering/Eval-AI/MVP/llama_test.ipynb#W1sZmlsZQ%3D%3D?line=2'>3</a>\u001b[0m     \u001b[39mrange\u001b[39m\u001b[39m=\u001b[39m\u001b[39m'\u001b[39m\u001b[39mStudent Notes!A:OZ\u001b[39m\u001b[39m'\u001b[39m,\n\u001b[1;32m      <a href='vscode-notebook-cell:/Users/eriwang/Desktop/Software%20Engineering/Eval-AI/MVP/llama_test.ipynb#W1sZmlsZQ%3D%3D?line=3'>4</a>\u001b[0m     sheet_id\u001b[39m=\u001b[39m\u001b[39m'\u001b[39m\u001b[39m1_-qCpMMQcA5NDnfGbXa4D79ki-Rjjz-gnyb2KXiNdsQ\u001b[39m\u001b[39m'\u001b[39m\n\u001b[1;32m      <a href='vscode-notebook-cell:/Users/eriwang/Desktop/Software%20Engineering/Eval-AI/MVP/llama_test.ipynb#W1sZmlsZQ%3D%3D?line=4'>5</a>\u001b[0m )\n\u001b[1;32m      <a href='vscode-notebook-cell:/Users/eriwang/Desktop/Software%20Engineering/Eval-AI/MVP/llama_test.ipynb#W1sZmlsZQ%3D%3D?line=5'>6</a>\u001b[0m d \u001b[39m=\u001b[39m s\u001b[39m.\u001b[39mget_dict_from_sheet_values(values)\n",
      "\u001b[0;31mNameError\u001b[0m: name 'SheetsAPI' is not defined"
     ]
    }
   ],
   "source": [
    "s = SheetsAPI()\n",
    "values = s.get_sheet_values(\n",
    "    range='Student Notes!A:OZ',\n",
    "    sheet_id='1_-qCpMMQcA5NDnfGbXa4D79ki-Rjjz-gnyb2KXiNdsQ'\n",
    ")\n",
    "d = s.get_dict_from_sheet_values(values)"
   ]
  },
  {
   "cell_type": "code",
   "execution_count": null,
   "metadata": {},
   "outputs": [
    {
     "ename": "",
     "evalue": "",
     "output_type": "error",
     "traceback": [
      "\u001b[1;31mRunning cells with '/opt/homebrew/bin/python3' requires the ipykernel package.\n",
      "\u001b[1;31mRun the following command to install 'ipykernel' into the Python environment. \n",
      "\u001b[1;31mCommand: '/opt/homebrew/bin/python3 -m pip install ipykernel -U --user --force-reinstall'"
     ]
    }
   ],
   "source": [
    "prompt = f\"\"\"Convert this list of notes into a paragraph.\\n Notes: {d['Aryan']}\"\"\"\n",
    "print(prompt)"
   ]
  },
  {
   "cell_type": "code",
   "execution_count": null,
   "metadata": {},
   "outputs": [
    {
     "ename": "",
     "evalue": "",
     "output_type": "error",
     "traceback": [
      "\u001b[1;31mRunning cells with '/opt/homebrew/bin/python3' requires the ipykernel package.\n",
      "\u001b[1;31mRun the following command to install 'ipykernel' into the Python environment. \n",
      "\u001b[1;31mCommand: '/opt/homebrew/bin/python3 -m pip install ipykernel -U --user --force-reinstall'"
     ]
    }
   ],
   "source": [
    "client = replicate.Client(api_token=REPLICATE_API_TOKEN)\n",
    "output = client.run(\n",
    "    \"meta/llama-2-70b-chat:2c1608e18606fad2812020dc541930f2d0495ce32eee50074220b87300bc16e1\",\n",
    "    input={'prompt': prompt}\n",
    ")"
   ]
  },
  {
   "cell_type": "code",
   "execution_count": null,
   "metadata": {},
   "outputs": [
    {
     "ename": "",
     "evalue": "",
     "output_type": "error",
     "traceback": [
      "\u001b[1;31mRunning cells with '/opt/homebrew/bin/python3' requires the ipykernel package.\n",
      "\u001b[1;31mRun the following command to install 'ipykernel' into the Python environment. \n",
      "\u001b[1;31mCommand: '/opt/homebrew/bin/python3 -m pip install ipykernel -U --user --force-reinstall'"
     ]
    }
   ],
   "source": [
    "result = [item for item in output]"
   ]
  },
  {
   "cell_type": "code",
   "execution_count": null,
   "metadata": {},
   "outputs": [
    {
     "ename": "",
     "evalue": "",
     "output_type": "error",
     "traceback": [
      "\u001b[1;31mRunning cells with '/opt/homebrew/bin/python3' requires the ipykernel package.\n",
      "\u001b[1;31mRun the following command to install 'ipykernel' into the Python environment. \n",
      "\u001b[1;31mCommand: '/opt/homebrew/bin/python3 -m pip install ipykernel -U --user --force-reinstall'"
     ]
    }
   ],
   "source": [
    "print(''.join(result))"
   ]
  }
 ],
 "metadata": {
  "kernelspec": {
   "display_name": "Python 3",
   "language": "python",
   "name": "python3"
  },
  "language_info": {
   "codemirror_mode": {
    "name": "ipython",
    "version": 3
   },
   "file_extension": ".py",
   "mimetype": "text/x-python",
   "name": "python",
   "nbconvert_exporter": "python",
   "pygments_lexer": "ipython3",
   "version": "3.11.5"
  },
  "orig_nbformat": 4
 },
 "nbformat": 4,
 "nbformat_minor": 2
}
